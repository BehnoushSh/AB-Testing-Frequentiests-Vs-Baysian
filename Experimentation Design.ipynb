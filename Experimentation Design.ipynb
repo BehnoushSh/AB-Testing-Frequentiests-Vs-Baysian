{
 "cells": [
  {
   "cell_type": "markdown",
   "id": "50e013b0",
   "metadata": {},
   "source": [
    "### There are various statistical hypothesis tests we can implement to estimate the average treatment effect depending on the data type and distributional properties.\n",
    "\n",
    "There are three major data types: \n",
    "\n",
    "    - Continuous Data\n",
    "    - Count Data\n",
    "    - Proportional/Categorical Data\n",
    "\n",
    "Each dataset has a different type of distributional property which resembles the data generating process for a random variable. These distributional properties determine the shape of the distribution such as the skewness and the dispersion of the data.\n",
    "\n",
    "    - Normally distributed. This distribution requires a mean and standard deviation parameter to characterize the entire distribution.\n",
    "    - Poisson or negative binomial distribution (for count data). Poisson distribution shows the number of events (or successes) within a certain time. This distribution is skewed towards zero at low sample sizes, but converges to normal distribution as the λ parameter converges to infinity.\n",
    "    - Bernoulli distribution (for proportional data). Probability of 0 or 1 outcome is the sole parameter to estimate.\n",
    "    - Zero-inflated: Truncated distribution such as two-part distributions, one for the proportion of zeros, and second for the non-zero portion. These datasets typically have too many observations with zero values."
   ]
  },
  {
   "cell_type": "code",
   "execution_count": 3,
   "id": "699b1072",
   "metadata": {},
   "outputs": [],
   "source": [
    "# load packages\n",
    "import numpy as np\n",
    "from scipy import stats\n",
    "from statsmodels.stats.proportion import proportions_ztest\n",
    "import random"
   ]
  },
  {
   "cell_type": "markdown",
   "id": "9081a8d1",
   "metadata": {},
   "source": [
    "### T-Test and Mann-Whitney U Test (Wilcoxon Ranked-Sum Test)\n",
    "\n",
    "T-test checks whether the sample means are equal or not. H0:μ1=μ2 vs H1:μ1≠μ2 . T-test is preferable if your dataset resembles a normal distribution.\n",
    "\n",
    "MWU checks whether two randomly selected numbers X and Y come from the same distribution, or their medians are equal, or alternatively the following: H0:prob(X≥Y)=prob(X≤Y) vs H1:prob(X≥Y)=prob(X≤Y) . MWU test is advised if your data are not normally distributed.\n",
    "\n",
    "We will show the simple python implementation as follow. We create two random variables x1 and x2 and implement a T-test and a MWU test. \n",
    "When p-value < 0.05, we can safely reject H0,\n",
    "otherwise,  H0 is likely to be true."
   ]
  },
  {
   "cell_type": "code",
   "execution_count": 4,
   "id": "ccee6a86",
   "metadata": {},
   "outputs": [
    {
     "name": "stdout",
     "output_type": "stream",
     "text": [
      "Ttest_indResult(statistic=0.4118821010902959, pvalue=0.6809189471796941)\n",
      "MannwhitneyuResult(statistic=5175.0, pvalue=0.6698372665970904)\n"
     ]
    }
   ],
   "source": [
    "np.random.seed(1234)\n",
    "mu1, mu2 = 0.5, 0.55\n",
    "sig1, sig2 = 1.4, 2\n",
    "x1 = sig1 * np.random.randn(100) + mu1\n",
    "x2 = sig2 * np.random.randn(100) + mu2\n",
    " \n",
    "def t_test(x1, x2):\n",
    "    \"\"\" Return  T-statistic and p-value\"\"\"\n",
    "    # test statistic\n",
    "    return stats.ttest_ind(x1, x2, equal_var=False)\n",
    " \n",
    "def mwu_test(x1, x2):\n",
    "    return stats.mannwhitneyu(x1, x2, use_continuity=True,\n",
    "                              alternative='two-sided')\n",
    " \n",
    "print(t_test(x1,x2))\n",
    "\n",
    "print(mwu_test(x1,x2))"
   ]
  },
  {
   "cell_type": "markdown",
   "id": "5a11012a",
   "metadata": {},
   "source": [
    "### Proportion or Chi-Square Test:\n",
    "When you observe data as failure (0) and success (1), you can implement a proportions z-test or a chi-square test. Suppose you have two datasets, control group is represented by x1 = [0, 0, 1, 1, 1, 0] where 0 represents failure for an event, and 1 represents success for an event. There are 6 events (page views), and 3 successes (page-views). \n",
    "And let's suppose the treatment group is represented by the vector x2 = [0, 1, 1, 0, 1, 1, 1] where there are 7 events and 4 successes. We can implement a proportions or chi-square test to determine whether the samples are different than each other. We observe that the average success rate is 0.5 for group 1, and 4/7 for group 2. We can then compare the two to decide if the treatment group have statistically higher success rates. \n",
    "\n",
    "Below we implement the same test with randomly generated data."
   ]
  },
  {
   "cell_type": "code",
   "execution_count": 6,
   "id": "3bc6385f",
   "metadata": {},
   "outputs": [
    {
     "name": "stdout",
     "output_type": "stream",
     "text": [
      "Chisquared test p-value = 0.07069592991793984\n",
      "Z test p-value = 0.07069592991793984\n"
     ]
    }
   ],
   "source": [
    "np.random.seed(1234)\n",
    "p1, p2 = 0.10, 0.15\n",
    "x1 = np.random.binomial(1, p1, size=100)\n",
    "x2 = np.random.binomial(1, p2, size=100)\n",
    " \n",
    "def proportion_test(x1, x2, chi_sq=True, chi_sq_correction=False):\n",
    "    \"\"\"This function performs a proportion (z-test or chi-sq) on\n",
    "    binary-categorical data that takes 0 or 1 values\n",
    "    Inputs:\n",
    "        x1: list or numpy array\n",
    "        x2: list or numpy array\n",
    "        chi_sq = True for chi squared test, and False for proportions z-test.\n",
    " \n",
    "    The function creates the necessary inputs for the proportions z-test or the\n",
    "    chi-square test functions in python. For the proportions z-test, the\n",
    "    function calculates the success counts (count array) and event counts\n",
    "    (n_obs array).\n",
    " \n",
    "    For the chi-square test, the function constructs the contingency table\n",
    "    which shows the total number of successes and failures by each group.\n",
    " \n",
    "    Output: Test statistics and relevant metrics.\n",
    "    \"\"\"\n",
    " \n",
    "    if type(x1) is list:\n",
    "        x1 = np.array(x1)\n",
    " \n",
    "    if type(x2) is list:\n",
    "        x2 = np.array(x2)\n",
    " \n",
    "    n1, n2 = len(x1), len(x2)\n",
    "    m1, m2 = len(x1[x1.astype(bool)]), len(x2[x2.astype(bool)])\n",
    "    p1, p2 = m1/n1, m2/n2\n",
    "    ate = p2 - p1\n",
    "    pct_uplift = ate/p1\n",
    " \n",
    "    if chi_sq:\n",
    "        cont_table = [[m1, n1-m1], [m2, n2-m2]]\n",
    "        chisqstat, pval, dof = \\\n",
    "            stats.chi2_contingency(cont_table,\n",
    "                                   correction=chi_sq_correction)[:3]\n",
    "        sig_chisq = \"Significant\" if pval < 0.05 else \"Not Significant\"\n",
    "        return cont_table, 'chi_sq', ate, pct_uplift, \\\n",
    "        chisqstat, pval, dof, sig_chisq\n",
    " \n",
    "    else:\n",
    "        count = np.array([m1, m2])\n",
    "        n_obs = np.array([n1, n2])\n",
    "        zstat, pval = proportions_ztest(count, n_obs)\n",
    " \n",
    "        sig_ztest_prop = 'Significant' if pval < 0.05 else \"Not Significant\"\n",
    "        return [count, n_obs], 'z_test_prop', ate, \\\n",
    "        pct_uplift, zstat, pval, sig_ztest_prop\n",
    " \n",
    " \n",
    "count_nobs,test,ate,pct_uplift,chisqstat,pval,dof,sig_chisq = \\\n",
    "    proportion_test(x1, x2, chi_sq=True)\n",
    "count_nobs1,test1,ate1,pct_uplift1,zstat,pval1,sig_ztest_prop = \\\n",
    "    proportion_test(x1, x2, chi_sq=False)\n",
    " \n",
    "print('Chisquared test p-value = {}'.format(pval))\n",
    " \n",
    "print('Z test p-value = {}'.format(pval))"
   ]
  },
  {
   "cell_type": "markdown",
   "id": "ff88544b",
   "metadata": {},
   "source": [
    "### Regression Tests for Count Data:\n",
    "\n",
    "When you work with count data with integer values (e.g., number of times you log in to the application), the distribution from which this random variable is drawn is likely to be skewed. In other words, you may not assume that your variable is normally distributed and you may not use a T-test when the sample size is relatively small. While you can implement a non-parametric test such as the MWU test, regression based tests that use count-data distributions such as Poisson or Negative binomial distribution are advised for count data. There are a few alternatives when you implement a regression based tests for count data: Poisson, Gamma, Negative Binomial, Hurdle Regression, Zero-inflated Poisson Regression, and Zero-inflated Negative Binomial Regression.\n",
    "\n",
    "Here is an example in Python to estimate if the treatment and control group means are different from each other:"
   ]
  },
  {
   "cell_type": "code",
   "execution_count": 7,
   "id": "95ca3cee",
   "metadata": {},
   "outputs": [
    {
     "name": "stdout",
     "output_type": "stream",
     "text": [
      "(0.09209280321031127, 6.647413412641464, 2.9828835176825425e-11)\n",
      "(0.09209280321031389, 1.967035588846957, 0.049179108010313395)\n",
      "Ttest_indResult(statistic=-6.565112235299977, pvalue=6.612354352350283e-11)\n"
     ]
    },
    {
     "name": "stderr",
     "output_type": "stream",
     "text": [
      "C:\\Users\\bshakeri\\AppData\\Local\\anaconda3\\lib\\site-packages\\statsmodels\\genmod\\families\\family.py:1367: ValueWarning: Negative binomial dispersion parameter alpha not set. Using default value alpha=1.0.\n",
      "  warnings.warn(\"Negative binomial dispersion parameter alpha not \"\n"
     ]
    }
   ],
   "source": [
    "from statsmodels.discrete.count_model import ZeroInflatedPoisson\n",
    "from statsmodels.discrete.count_model import ZeroInflatedNegativeBinomialP\n",
    "import statsmodels.api as sm\n",
    " \n",
    "def discrete_model_regression(x1, x2, model='Poisson'):\n",
    "    \"\"\"This function fits a discrete count model (such as Poisson or\n",
    "    negative binomial) using the treatment group as the sole\n",
    "    explanatory variable.\n",
    "    Choose model: [Poisson, NegativeBinomial,\n",
    "                   ZeroInflatedPoisson, ZeroInflatedNegativeBinomial] \"\"\"\n",
    " \n",
    "    # prepare constant & treatment dummy vector\n",
    "    x1 = np.hstack((x1, [1] * len(x1), [0]*len(x1))).reshape(3, len(x1)).T\n",
    "    x2 = np.hstack((x2, [1] * len(x1), [1]*len(x2))).reshape(3, len(x2)).T\n",
    "    x = np.concatenate((x1, x2))\n",
    "    y = x[:, 0]\n",
    "    X = x[:, 1:]\n",
    " \n",
    "    if model == 'Poisson':\n",
    "        reg = sm.GLM(y, X, family=sm.families.Poisson()).fit(disp=0)\n",
    "    elif model == 'NegativeBinomial':\n",
    "        reg = sm.GLM(y, X, family=sm.families.NegativeBinomial()).fit(disp=0)\n",
    "    else:\n",
    "        reg = model(y, X).fit(disp=0)\n",
    " \n",
    "    ate = reg.params[1]\n",
    "    tstat = reg.tvalues[1]\n",
    "    pval = reg.pvalues[1]\n",
    " \n",
    "    return ate, tstat, pval\n",
    " \n",
    "np.random.seed(1234)\n",
    "mu1, mu2 = 10, 11\n",
    "x1 = np.random.poisson(lam=mu1, size=1000)\n",
    "x2 = np.random.poisson(lam=mu2, size=1000)\n",
    " \n",
    "print(discrete_model_regression(x1, x2, model='Poisson'))\n",
    " \n",
    "print(discrete_model_regression(x1, x2, model='NegativeBinomial'))\n",
    " \n",
    "print(t_test(x1,x2))"
   ]
  },
  {
   "cell_type": "markdown",
   "id": "6393d1bc",
   "metadata": {},
   "source": [
    "### Two-Part Test for Zero-Inflated Data\n",
    "\n",
    "When we have a dataset that have too many zeros, we can implement a two-part test procedure, where the test statistic is formed by using two sets of information from the data: (1) The fraction of non-zero to all observations; and (2) the value of non-zero observations.\n",
    "\n",
    "This test combines a chi-square test for part 1; and either a t-test or Mann-Whitney U test for the second part. The test is appropriate for continuous data. We can also implement this test to count data.\n"
   ]
  },
  {
   "cell_type": "code",
   "execution_count": 8,
   "id": "8c3f904f",
   "metadata": {},
   "outputs": [
    {
     "name": "stdout",
     "output_type": "stream",
     "text": [
      "99 1000 0.099 56 1000 0.056\n",
      "(13.074172531888697, 0.001448703492055503)\n",
      "99 1000 0.099 56 1000 0.056\n",
      "(13.444055548328759, 0.0012040941058265586)\n"
     ]
    }
   ],
   "source": [
    "# Two-part hypothesis test for zero-inflated datasets. The test is\n",
    "# (count or continuous)\n",
    "# Call the 'two_part_test' function using x1 and x2 as the input arrays.\n",
    "def two_part_test(x1, x2, firstpart='mwu'):\n",
    "    \"\"\" Compute the test statistic of the two part test that combines the\n",
    "    Z-proportion chisquare test and the wilcoxon ranked (mwu) test.\n",
    "    The final test statistic is Z2 + W2, which is distributed\n",
    "    with a chisq distribution with 2 degrees of freedom.\n",
    " \n",
    "    Return: Test Statistic, p-value\n",
    "    \"\"\"\n",
    " \n",
    "    def part1_chi2(n1, n2, m1, m2):\n",
    "        \"\"\"Z-proportion test (similar to stats.scipy.chi2_contigency function)\n",
    "        Return Chi-Sq Test Statistic From count data of arrays x1 and x2\n",
    "        Returns: Chi-Sq Test Statistic, and the P-Value\"\"\"\n",
    " \n",
    "        p1, p2 = m1/n1, m2/n2\n",
    "        phat = (m1+m2) / (n1+n2)\n",
    "        qhat = 1 - phat\n",
    " \n",
    "        Z = (np.abs(p1 - p2) - (1/(2*n1) + 1/(2*n2))) \\\n",
    "            / np.sqrt(phat * qhat * (1/n1 + 1/n2))\n",
    "        return Z**2, 1 - stats.chi2.cdf(Z**2, 1)\n",
    " \n",
    "    def part2_wilcoxon_ranked(x1_nonzero, x2_nonzero, m1, m2):\n",
    "        \"\"\"Return Square of standardized Wilcoxon-Ranked (mwu) test statistic\n",
    "        and its p-value using only the non-zero count data.\n",
    " \n",
    "        Note that the standard deviation of the statistic is calculated using\n",
    "        a normal approximation without tie correction for simplicity.\"\"\"\n",
    " \n",
    "        # test statistic\n",
    "        U = stats.mannwhitneyu(x1_nonzero, x2_nonzero)[0]\n",
    "        # normality approximation\n",
    "        mu_U = m1 * m2 / 2\n",
    "        sig_U = np.sqrt(m1 * m2 * (m1 + m2 + 1) / 12)\n",
    " \n",
    "        W = (np.abs(U-mu_U) - 1/2)/sig_U\n",
    "        return W**2, 1 - stats.chi2.cdf(W**2, 1)\n",
    " \n",
    "    def part2_ttest(x1_nonzero, x2_nonzero):\n",
    "        \"\"\" Return Square of T-statistic on the non-zero population\"\"\"\n",
    "        # test statistic\n",
    "        T = stats.ttest_ind(x1_nonzero, x2_nonzero, equal_var=False)[0]\n",
    " \n",
    "        return T**2, 1 - stats.chi2.cdf(T**2, 1)\n",
    " \n",
    "    if type(x1) is list:\n",
    "        x1 = np.array(x1)\n",
    " \n",
    "    if type(x2) is list:\n",
    "        x2 = np.array(x2)\n",
    " \n",
    "    x1_nonzero = x1[x1 != 0]\n",
    "    x2_nonzero = x2[x2 != 0]\n",
    " \n",
    "    n1, n2 = len(x1), len(x2)\n",
    "    m1, m2 = len(x1_nonzero), len(x2_nonzero)\n",
    "    p1, p2 = m1/n1, m2/n2\n",
    "    m1, n1, p1, m2, n2, p2\n",
    " \n",
    "    print(m1, n1, p1, m2, n2, p2)\n",
    "    Z2 = part1_chi2(n1, n2, m1, m2)[0]\n",
    " \n",
    "    if firstpart == 'ttest':\n",
    "        W2 = part2_ttest(x1_nonzero, x2_nonzero)[0]\n",
    "    elif firstpart == 'mwu':\n",
    "        W2 = part2_wilcoxon_ranked(x1_nonzero, x2_nonzero, m1, m2)[0]\n",
    "    ChiSq = Z2 + W2\n",
    " \n",
    "    return ChiSq, 1 - stats.chi2.cdf(ChiSq, 2)\n",
    " \n",
    "# suppose we have 1000 observations in x1 and x2, and we randomize the\n",
    "# instance of non-zero observations, which will be at most 100.\n",
    "# and then pick a random distribution for the non-zero portion\n",
    "random.seed(1234)\n",
    "np.random.seed(1234)\n",
    "n_nonzero1 = random.randint(0, 100)\n",
    "n_nonzero2 = random.randint(0, 100)\n",
    "zeros1 = np.array([0] * (1000 - n_nonzero1))\n",
    "zeros2 = np.array([0] * (1000 - n_nonzero2))\n",
    "mu1, mu2 = 0.5, 0.55\n",
    "sig1, sig2 = 1.4, 2\n",
    "x1_nonzero = sig1 * np.random.randn(n_nonzero1) + mu1\n",
    "x2_nonzero = sig2 * np.random.randn(n_nonzero2) + mu2\n",
    "x1 = np.concatenate((zeros1, x1_nonzero))\n",
    "x2 = np.concatenate((zeros2, x2_nonzero))\n",
    " \n",
    "print(two_part_test(x1, x2, firstpart='ttest'))\n",
    "print(two_part_test(x1, x2, firstpart='mwu'))"
   ]
  },
  {
   "cell_type": "code",
   "execution_count": null,
   "id": "3c89b8d8",
   "metadata": {},
   "outputs": [],
   "source": []
  },
  {
   "cell_type": "code",
   "execution_count": null,
   "id": "457a89b6",
   "metadata": {},
   "outputs": [],
   "source": []
  }
 ],
 "metadata": {
  "kernelspec": {
   "display_name": "Python 3 (ipykernel)",
   "language": "python",
   "name": "python3"
  },
  "language_info": {
   "codemirror_mode": {
    "name": "ipython",
    "version": 3
   },
   "file_extension": ".py",
   "mimetype": "text/x-python",
   "name": "python",
   "nbconvert_exporter": "python",
   "pygments_lexer": "ipython3",
   "version": "3.10.9"
  }
 },
 "nbformat": 4,
 "nbformat_minor": 5
}
